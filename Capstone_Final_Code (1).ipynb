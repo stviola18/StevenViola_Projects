{
 "cells": [
  {
   "cell_type": "markdown",
   "id": "a5509425",
   "metadata": {},
   "source": [
    "# Final Code"
   ]
  },
  {
   "cell_type": "code",
   "execution_count": 27,
   "id": "a9a21898",
   "metadata": {},
   "outputs": [],
   "source": [
    "import random\n",
    "import numpy as np\n",
    "import pandas as pd\n",
    "\n",
    "def simulate_logmeteorite_dataset(years):\n",
    "    # Mean and standard deviation of log(mass) for actual meteorites\n",
    "    log_mass_mean = -2.723\n",
    "    log_mass_std = 2.289\n",
    "    \n",
    "    # Create an empty dataframe to hold the meteorite data\n",
    "    meteor_data2 = pd.DataFrame(columns=[\"year\", \"mass\"])\n",
    "    \n",
    "    # Rate per year that meteorites land on Earth. Data obtained in R\n",
    "    mean_rate = 738.65\n",
    "    sd_rate = 665.831446677472\n",
    "    meteor_rate = np.random.normal(mean_rate, sd_rate, years)\n",
    "    meteor_count = [max(0, int(rate)) for rate in meteor_rate]\n",
    "    \n",
    "    # list of the size of each meteorite that falls each year\n",
    "    meteor_size = {year: [] for year in range(years)}\n",
    "    \n",
    "    # Simulates the meteorite falls for the given number of years\n",
    "    for year in range(years):\n",
    "        num_meteors = meteor_count[year]\n",
    "        \n",
    "        # Simulates the log(mass) of each meteorite that falls in this year\n",
    "        for i in range(num_meteors):\n",
    "            meteor_log_mass = np.random.normal(log_mass_mean, log_mass_std)\n",
    "            meteor_mass = 10**meteor_log_mass\n",
    "            \n",
    "            meteor_size[year].append(meteor_mass)\n",
    "        \n",
    "        # Append the meteorite data to the dataframe\n",
    "        meteor_data2 = pd.concat([meteor_data2, pd.DataFrame({\"year\": [year + 2024]*num_meteors, \"mass\": meteor_size[year]})], ignore_index=True)\n",
    "    \n",
    "    return meteor_data2\n"
   ]
  },
  {
   "cell_type": "code",
   "execution_count": 21,
   "id": "b762fbf2",
   "metadata": {},
   "outputs": [],
   "source": [
    "data = simulate_logmeteorite_dataset(39)\n",
    "data.to_csv(\"meteorite_data3.csv\", index=False)"
   ]
  },
  {
   "cell_type": "code",
   "execution_count": 28,
   "id": "a35c46c5",
   "metadata": {},
   "outputs": [],
   "source": [
    "data = simulate_logmeteorite_dataset(100)\n",
    "data.to_csv(\"meteorite_prediction\", index=False)"
   ]
  },
  {
   "cell_type": "code",
   "execution_count": null,
   "id": "778e6047",
   "metadata": {},
   "outputs": [],
   "source": []
  }
 ],
 "metadata": {
  "kernelspec": {
   "display_name": "Python 3 (ipykernel)",
   "language": "python",
   "name": "python3"
  },
  "language_info": {
   "codemirror_mode": {
    "name": "ipython",
    "version": 3
   },
   "file_extension": ".py",
   "mimetype": "text/x-python",
   "name": "python",
   "nbconvert_exporter": "python",
   "pygments_lexer": "ipython3",
   "version": "3.10.9"
  }
 },
 "nbformat": 4,
 "nbformat_minor": 5
}
